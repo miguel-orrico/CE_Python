{
 "cells": [
  {
   "cell_type": "markdown",
   "id": "2f567f63",
   "metadata": {},
   "source": [
    "## Primera Tutoría colectiva\n",
    "Veremos los aspectos ** más importantes ** de los tipos de Python"
   ]
  },
  {
   "cell_type": "code",
   "execution_count": 1,
   "id": "e3b3c9c8",
   "metadata": {},
   "outputs": [
    {
     "data": {
      "text/plain": [
       "'Ana'"
      ]
     },
     "execution_count": 1,
     "metadata": {},
     "output_type": "execute_result"
    }
   ],
   "source": [
    "nombre=\"Ana\"\n",
    "nombre"
   ]
  },
  {
   "cell_type": "markdown",
   "id": "19c629a4",
   "metadata": {},
   "source": [
    "### Explicación f string"
   ]
  },
  {
   "cell_type": "code",
   "execution_count": null,
   "id": "3fbb7b63",
   "metadata": {},
   "outputs": [
    {
     "name": "stdout",
     "output_type": "stream",
     "text": [
      "Hola, Ana\n",
      "Hola, Ana\n",
      "Hola, nombre = 'Ana'\n",
      "Hola, nombre.upper() = 'ANA'\n"
     ]
    }
   ],
   "source": [
    "print(\"Hola, \"+ nombre)\n",
    "print(f\"Hola, {nombre}\")  # f string    \n",
    "print(f\"Hola, {nombre = }\")\n",
    "print(f\"Hola, {nombre.upper() = }\")\n"
   ]
  },
  {
   "cell_type": "code",
   "execution_count": 14,
   "id": "d1558359",
   "metadata": {},
   "outputs": [
    {
     "name": "stdout",
     "output_type": "stream",
     "text": [
      "numero_largo = 1,000,000,000\n",
      "numero_con_decimales = 23.99\n",
      "=========*==========\n",
      "········1000000000.0\n",
      "·········333333333.3\n",
      "·········166666666.7\n"
     ]
    }
   ],
   "source": [
    "numero_largo = 1_000_000_000\n",
    "print(f\"numero_largo = {numero_largo:,}\")\n",
    "numero_con_decimales=23.98757\n",
    "print(f\"numero_con_decimales = {numero_con_decimales:.2f}\")\n",
    "centrado=\"*\"\n",
    "print(f\"{centrado:=^20}\")\n",
    "print(f\"{numero_largo:·>20.1f}\")\n",
    "print(f\"{numero_largo/3:·>20.1f}\")\n",
    "print(f\"{numero_largo/6:·>20.1f}\")\n"
   ]
  },
  {
   "cell_type": "markdown",
   "id": "e4aa3966",
   "metadata": {},
   "source": [
    "### Ejemplo de divmod y, de paso, de tuplas"
   ]
  },
  {
   "cell_type": "code",
   "execution_count": null,
   "id": "383b9006",
   "metadata": {},
   "outputs": [
    {
     "name": "stdout",
     "output_type": "stream",
     "text": [
      "[3, 1]\n",
      "1\n",
      "[5, 1]\n",
      "(3, 1)\n",
      "1\n",
      "(3, 1)\n"
     ]
    }
   ],
   "source": [
    "a=[3,1]\n",
    "print(a)\n",
    "print(a[1])\n",
    "a[0]=5\n",
    "print(a)\n",
    "a=divmod(10,3)\n",
    "print(a)\n",
    "print(a[1])\n",
    "print(a)            \n",
    "(divisor, cociente)=divmod(10,3)\n"
   ]
  },
  {
   "cell_type": "markdown",
   "id": "13511d30",
   "metadata": {},
   "source": [
    "### Ejemplo de \"violación\" de la inmutabilidad de las tuplas"
   ]
  },
  {
   "cell_type": "code",
   "execution_count": null,
   "id": "c54534e8",
   "metadata": {},
   "outputs": [
    {
     "name": "stdout",
     "output_type": "stream",
     "text": [
      "mi_tupla=('Ana', 4, 5, True)\n",
      "otra_tupla=('Ana', 4, 5, True)\n",
      "tupla_compleja=(1, ['ana', 'bea', 'clara'], 2)\n",
      "tupla_compleja=(1, ['ana', 'delia', 'clara'], 2)\n"
     ]
    }
   ],
   "source": [
    "mi_tupla=(\"Ana\",4,5,True)\n",
    "otra_tupla=nombre,4,5,True\n",
    "print(f\"{mi_tupla=}\")\n",
    "print(f\"{otra_tupla=}\")\n",
    "tupla_compleja=(1,[\"ana\",\"bea\",\"clara\"],2)\n",
    "print(f\"{tupla_compleja=}\")\n",
    "tupla_compleja[1][1]=\"delia\"\n",
    "print(f\"{tupla_compleja=}\")\n",
    "# mi_tupla[1]=5  # Esto da error porque las tuplas son inmutables\n",
    "tupla_compleja_mejorada=(1,(\"ana\",\"bea\",\"clara\"),2)\n",
    "print(f\"{tupla_compleja_mejorada=}\")"
   ]
  },
  {
   "cell_type": "markdown",
   "id": "61ead7d2",
   "metadata": {},
   "source": [
    "## Pruebas simples de funciones integradas"
   ]
  },
  {
   "cell_type": "code",
   "execution_count": 43,
   "id": "274800af",
   "metadata": {},
   "outputs": [
    {
     "name": "stdout",
     "output_type": "stream",
     "text": [
      "raiz=1.414\n"
     ]
    }
   ],
   "source": [
    "raiz=pow(2,0.5)\n",
    "print(f\"{raiz=:.3f}\")"
   ]
  },
  {
   "cell_type": "code",
   "execution_count": 44,
   "id": "8f7a8fb1",
   "metadata": {},
   "outputs": [
    {
     "name": "stdout",
     "output_type": "stream",
     "text": [
      "input_usuario='2', type(input_usuario)=<class 'str'>\n"
     ]
    }
   ],
   "source": [
    "input_usuario=input(\"Dime un número: \")\n",
    "print(f\"{input_usuario=}, {type(input_usuario)=}\")"
   ]
  },
  {
   "cell_type": "markdown",
   "id": "f8a64859",
   "metadata": {},
   "source": [
    "## Slices Strings y lists"
   ]
  },
  {
   "cell_type": "code",
   "execution_count": null,
   "id": "ea25b59b",
   "metadata": {},
   "outputs": [
    {
     "name": "stdout",
     "output_type": "stream",
     "text": [
      "Delia\n",
      "('Ana', 'Bea', 'Clara', 'Delia', 'Eva', 'Fina')\n",
      "('Fina',)\n",
      "('Eva', 'Fina')\n",
      "('Eva', 'Fina')\n",
      "('Iris', 'Julia')\n",
      "('Eva', 'Fina', 'Gala', 'Hera', 'Iris', 'Julia')\n",
      "('Ana', 'Delia', 'Gala', 'Julia')\n",
      "['Ana', 'Bea', 'Clara', 'Delia', 'Eva', 'Fina']\n",
      "['Fina', 'Eva', 'Delia', 'Clara', 'Bea', 'Ana']\n"
     ]
    }
   ],
   "source": [
    "tupla=(\"Ana\",\"Bea\",\"Clara\",\"Delia\",\"Eva\",\"Fina\")\n",
    "print(tupla[3])\n",
    "print(tupla[:])\n",
    "print(tupla[-1:]) #Deberes para el profesor ¿Y la coma?\n",
    "print(tupla[-2:])\n",
    "print(tupla[4:])\n",
    "tupla_mas_larga=(\"Ana\",\"Bea\",\"Clara\",\"Delia\",\"Eva\",\"Fina\",\"Gala\",\"Hera\",\"Iris\",\"Julia\")\n",
    "print(tupla_mas_larga[-2:])\n",
    "print(tupla_mas_larga[4:])\n",
    "print(tupla_mas_larga[::3])\n",
    "lista=list(tupla)\n",
    "print(lista)\n",
    "print(lista[::-1]) # Muy bonico\n",
    "\n",
    "\n"
   ]
  },
  {
   "cell_type": "markdown",
   "id": "35e97ed2",
   "metadata": {},
   "source": [
    "### Estructuras condicionales"
   ]
  },
  {
   "cell_type": "code",
   "execution_count": null,
   "id": "ba504a1f",
   "metadata": {},
   "outputs": [
    {
     "name": "stdout",
     "output_type": "stream",
     "text": [
      "Es verdadero\n",
      "Es verdadero\n",
      "Positivo\n"
     ]
    }
   ],
   "source": [
    "booleano=True\n",
    "if booleano:\n",
    "    print(\"Es verdadero\")\n",
    "\n",
    "if not(booleano):\n",
    "    print(\"Es falso\")\n",
    "else:\n",
    "    print(\"Es verdadero\")\n",
    "\n",
    "x = 5\n",
    "if x < 0:\n",
    "    print(\"Negativo\")\n",
    "elif x == 0: #revisar\n",
    "    print(\"Cero\")\n",
    "else:\n",
    "    print(\"Positivo\")   \n",
    "\n",
    "\n",
    "edad=int(input(\"Dime tu edad: \"))\n",
    "if edad < 0:\n",
    "    print(\"Edad incorrecta\")\n",
    "elif edad < 18:\n",
    "    print(\"Eres menor de edad\") \n",
    "elif edad < 65:\n",
    "    print(\"Eres mayor de edad\")\n",
    "else:\n",
    "    print(\"Eres jubilado\")\n",
    "    \n"
   ]
  },
  {
   "cell_type": "markdown",
   "id": "a660eeda",
   "metadata": {},
   "source": [
    "## diferencia entre is y =="
   ]
  },
  {
   "cell_type": "code",
   "execution_count": 16,
   "id": "53afe907",
   "metadata": {},
   "outputs": [
    {
     "name": "stdout",
     "output_type": "stream",
     "text": [
      "True False\n",
      "True False\n",
      "True True\n",
      "True False\n"
     ]
    }
   ],
   "source": [
    "a=[1,2,3]\n",
    "b=[1,2,3]\n",
    "print(a==b,a is b)\n",
    "a=(1,2,3)\n",
    "b=(1,2,3)\n",
    "print(a==b,a is b)\n",
    "\n",
    "a=int(\"-5\")\n",
    "b=int(\"-5\")\n",
    "print(a==b,a is b)\n",
    "\n",
    "a=int(\"257\")\n",
    "b=int(\"257\")\n",
    "print(a==b,a is b)\n",
    "\n"
   ]
  },
  {
   "cell_type": "markdown",
   "id": "895f269e",
   "metadata": {},
   "source": [
    "### Anotaciones de tipos"
   ]
  },
  {
   "cell_type": "code",
   "execution_count": null,
   "id": "43e08f06",
   "metadata": {},
   "outputs": [],
   "source": [
    "n:int=5\n",
    "cadena:str=\"Hola\"\n",
    "decimal:float=3.5"
   ]
  }
 ],
 "metadata": {
  "kernelspec": {
   "display_name": "Python 3",
   "language": "python",
   "name": "python3"
  },
  "language_info": {
   "codemirror_mode": {
    "name": "ipython",
    "version": 3
   },
   "file_extension": ".py",
   "mimetype": "text/x-python",
   "name": "python",
   "nbconvert_exporter": "python",
   "pygments_lexer": "ipython3",
   "version": "3.13.7"
  }
 },
 "nbformat": 4,
 "nbformat_minor": 5
}
