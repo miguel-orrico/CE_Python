{
 "cells": [
  {
   "cell_type": "markdown",
   "id": "0b564635",
   "metadata": {},
   "source": [
    "## Pruebas de tipos de datos"
   ]
  },
  {
   "cell_type": "code",
   "execution_count": 13,
   "id": "ff2ffbd5",
   "metadata": {},
   "outputs": [
    {
     "data": {
      "text/plain": [
       "[1, 2, [1, 2, 3], 3, 4]"
      ]
     },
     "execution_count": 13,
     "metadata": {},
     "output_type": "execute_result"
    }
   ],
   "source": [
    "from typing import Any\n",
    "\n",
    "a: list[Any] = [1, 2, [1, 2, 3], 3, 4]\n",
    "a"
   ]
  },
  {
   "cell_type": "code",
   "execution_count": 14,
   "id": "4bb57d0c",
   "metadata": {},
   "outputs": [
    {
     "data": {
      "text/plain": [
       "[1, 2, [1, 2, 3], 3, 4]"
      ]
     },
     "execution_count": 14,
     "metadata": {},
     "output_type": "execute_result"
    }
   ],
   "source": [
    "b:list[Any]=[1,2,[1,2,3],3,4]\n",
    "b\n"
   ]
  },
  {
   "cell_type": "code",
   "execution_count": 15,
   "id": "a3023db4",
   "metadata": {},
   "outputs": [
    {
     "data": {
      "text/plain": [
       "True"
      ]
     },
     "execution_count": 15,
     "metadata": {},
     "output_type": "execute_result"
    }
   ],
   "source": [
    "a==b"
   ]
  },
  {
   "cell_type": "code",
   "execution_count": 16,
   "id": "c2610083",
   "metadata": {},
   "outputs": [
    {
     "data": {
      "text/plain": [
       "'do'"
      ]
     },
     "execution_count": 16,
     "metadata": {},
     "output_type": "execute_result"
    }
   ],
   "source": [
    "cadena:str=\"Hola, mundo\"\n",
    "cadena[-2:]"
   ]
  },
  {
   "cell_type": "markdown",
   "id": "e40f127f",
   "metadata": {},
   "source": [
    "### Asterisco con tuplas\n",
    "El asterisco **desempaqueta** tuplas para pasarlas como argumentos"
   ]
  },
  {
   "cell_type": "code",
   "execution_count": 7,
   "id": "e110d2ef",
   "metadata": {},
   "outputs": [
    {
     "name": "stdout",
     "output_type": "stream",
     "text": [
      "Producto: Teclado, Cantidad: 2, Precio: 39.95\n",
      "Producto: Teclado, Cantidad: 2, Precio: 39.95\n"
     ]
    }
   ],
   "source": [
    "template = \"Producto: {}, Cantidad: {}, Precio: {}\"\n",
    "purchase = (\"Teclado\", 2, 39.95)\n",
    "\n",
    "print(template.format(*purchase))\n",
    "print(template.format(purchase[0], purchase[1], purchase[2]))"
   ]
  },
  {
   "cell_type": "markdown",
   "id": "7b21aa58",
   "metadata": {},
   "source": [
    "### Más sobre templates en python"
   ]
  },
  {
   "cell_type": "code",
   "execution_count": 9,
   "id": "677d155e",
   "metadata": {},
   "outputs": [
    {
     "data": {
      "text/plain": [
       "'Querido Miguel:\\nGracias por su carta.\\nDebemos indicarle que la devolución del artículo: Un libro\\nse producirá durante la próxima semana.'"
      ]
     },
     "execution_count": 9,
     "metadata": {},
     "output_type": "execute_result"
    }
   ],
   "source": [
    "plantilla = \"\"\"Querido {nombre}:\n",
    "Gracias por su carta.\n",
    "Debemos indicarle que la devolución del artículo: {artículo}\n",
    "se producirá durante la próxima semana.\"\"\"\n",
    "tupla = {\"artículo\": \"Un libro\", \"nombre\": \"Miguel\"}\n",
    "plantilla.format(**tupla)"
   ]
  }
 ],
 "metadata": {
  "kernelspec": {
   "display_name": "Python 3",
   "language": "python",
   "name": "python3"
  },
  "language_info": {
   "codemirror_mode": {
    "name": "ipython",
    "version": 3
   },
   "file_extension": ".py",
   "mimetype": "text/x-python",
   "name": "python",
   "nbconvert_exporter": "python",
   "pygments_lexer": "ipython3",
   "version": "3.13.7"
  }
 },
 "nbformat": 4,
 "nbformat_minor": 5
}
