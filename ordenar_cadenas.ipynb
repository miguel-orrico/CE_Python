{
 "cells": [
  {
   "cell_type": "markdown",
   "id": "9a4aa8fe",
   "metadata": {},
   "source": [
    "# Cheat Sheet: Ordenación de Cadenas en Python\n",
    "\n",
    "| Método | Código | Resultado | Descripción |\n",
    "|--------|--------|-----------|-------------|\n",
    "| Ordenación simple (Unicode) | `sorted(objetos)` | `['Banana', 'Manzana', 'Naranja', 'Pera', 'avión', 'Árbol', 'pera']` | Ordena según valores Unicode; los acentos y mayúsculas afectan el orden “humano”. |\n",
    "| Ignorando mayúsculas/minúsculas | `sorted(objetos, key=str.lower)` | `['Árbol', 'avión', 'Banana', 'Manzana', 'Naranja', 'Pera', 'pera']` | Ordena sin distinguir mayúsculas/minúsculas. |\n",
    "| Locale-aware (respetando acentos) | `import locale; locale.setlocale(locale.LC_ALL, 'es_ES.UTF-8'); sorted(objetos, key=locale.strxfrm)` | `['Árbol', 'avión', 'Banana', 'Manzana', 'Naranja', 'Pera', 'pera']` | Orden alfabético “humano” según idioma (acentos incluidos). |\n",
    "| Orden inversa | `sorted(objetos, reverse=True)` | `['pera', 'avión', 'Pera', 'Naranja', 'Manzana', 'Banana', 'Árbol']` | Ordena de Z a A o de mayor a menor. |\n",
    "| Por longitud | `sorted(objetos, key=len)` | `['Pera', 'pera', 'Árbol', 'avión', 'Banana', 'Naranja', 'Manzana']` | Ordena las cadenas según número de caracteres. |\n",
    "| Ignorando acentos | `import unicodedata; sorted(objetos, key=lambda x: ''.join(c for c in unicodedata.normalize('NFD', x.lower()) if unicodedata.category(c) != 'Mn'))` | `['Árbol', 'avión', 'Banana', 'Manzana', 'Naranja', 'Pera', 'pera']` | Convierte los caracteres a su forma base, ignorando acentos. |\n"
   ]
  },
  {
   "cell_type": "code",
   "execution_count": null,
   "id": "ef916359",
   "metadata": {},
   "outputs": [],
   "source": []
  }
 ],
 "metadata": {
  "language_info": {
   "name": "python"
  }
 },
 "nbformat": 4,
 "nbformat_minor": 5
}
